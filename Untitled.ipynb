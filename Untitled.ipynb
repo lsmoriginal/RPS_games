{
 "cells": [
  {
   "cell_type": "code",
   "execution_count": 1,
   "metadata": {
    "scrolled": true
   },
   "outputs": [
    {
     "name": "stdout",
     "output_type": "stream",
     "text": [
      "Loading environment football failed: No module named 'gfootball'\n"
     ]
    }
   ],
   "source": [
    "import competition_committee as cc\n",
    "# import helper_competition\n",
    "from kaggle_environments import evaluate\n",
    "import helper_general as hg"
   ]
  },
  {
   "cell_type": "code",
   "execution_count": 2,
   "metadata": {},
   "outputs": [],
   "source": [
    "from OneVOne import evaluate as private_eval"
   ]
  },
  {
   "cell_type": "code",
   "execution_count": 5,
   "metadata": {},
   "outputs": [
    {
     "name": "stdout",
     "output_type": "stream",
     "text": [
      "[[37.0, -37.0]]\n",
      "CPU times: user 1min 58s, sys: 353 ms, total: 1min 58s\n",
      "Wall time: 1min 58s\n"
     ]
    }
   ],
   "source": [
    "%%time \n",
    "\n",
    "trial_agent = 'players/' + 'BlueBelt_Decision_Tree.py'\n",
    "\n",
    "for i in range(10):\n",
    "    result =  evaluate(\n",
    "                \"rps\", \n",
    "                ['players/Spinoza.py', trial_agent],\n",
    "                configuration={\"episodeSteps\": 1000})\n",
    "print(result)"
   ]
  },
  {
   "cell_type": "code",
   "execution_count": 6,
   "metadata": {},
   "outputs": [
    {
     "name": "stdout",
     "output_type": "stream",
     "text": [
      "[[-12, 12]]\n",
      "CPU times: user 1min 39s, sys: 294 ms, total: 1min 39s\n",
      "Wall time: 1min 40s\n"
     ]
    }
   ],
   "source": [
    "%%time\n",
    "\n",
    "trial_agent = 'players/' + 'BlueBelt_Decision_Tree.py'\n",
    "\n",
    "for i in range(10):\n",
    "    result =  private_eval(\n",
    "                \"rps\", \n",
    "                ['players/Spinoza.py', trial_agent],\n",
    "                configuration={\"episodeSteps\": 1000})\n",
    "print(result)"
   ]
  },
  {
   "cell_type": "code",
   "execution_count": null,
   "metadata": {},
   "outputs": [],
   "source": []
  }
 ],
 "metadata": {
  "kernelspec": {
   "display_name": "Python 3",
   "language": "python",
   "name": "python3"
  },
  "language_info": {
   "codemirror_mode": {
    "name": "ipython",
    "version": 3
   },
   "file_extension": ".py",
   "mimetype": "text/x-python",
   "name": "python",
   "nbconvert_exporter": "python",
   "pygments_lexer": "ipython3",
   "version": "3.7.4"
  }
 },
 "nbformat": 4,
 "nbformat_minor": 2
}
